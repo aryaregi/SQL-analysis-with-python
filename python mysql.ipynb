{
 "cells": [
  {
   "cell_type": "code",
   "execution_count": null,
   "id": "b90043d0",
   "metadata": {},
   "outputs": [],
   "source": []
  },
  {
   "cell_type": "code",
   "execution_count": 23,
   "id": "9c23db2a",
   "metadata": {},
   "outputs": [],
   "source": [
    "import mysql.connector as c"
   ]
  },
  {
   "cell_type": "code",
   "execution_count": 24,
   "id": "7dd67a99",
   "metadata": {},
   "outputs": [
    {
     "name": "stdout",
     "output_type": "stream",
     "text": [
      "True\n"
     ]
    }
   ],
   "source": [
    "mydb=c.connect(host=\"localhost\",user=\"root\",passwd=\"arya#sql123\",use_pure=True)\n",
    "print(mydb.is_connected())"
   ]
  },
  {
   "cell_type": "code",
   "execution_count": 25,
   "id": "6a974333",
   "metadata": {},
   "outputs": [],
   "source": [
    "mc=mydb.cursor()"
   ]
  },
  {
   "cell_type": "code",
   "execution_count": 5,
   "id": "e008c5e7",
   "metadata": {},
   "outputs": [
    {
     "name": "stdout",
     "output_type": "stream",
     "text": [
      "('food',)\n",
      "('information_schema',)\n",
      "('mysql',)\n",
      "('performance_schema',)\n",
      "('sys',)\n"
     ]
    }
   ],
   "source": [
    "#to list databases\n",
    "sql=\"show databases\"\n",
    "mc.execute(sql)\n",
    "r=mc.fetchall()\n",
    "for x in r:\n",
    "    print(x)"
   ]
  },
  {
   "cell_type": "code",
   "execution_count": 27,
   "id": "c0454d8d",
   "metadata": {},
   "outputs": [],
   "source": [
    "mc.execute(\"use food\")"
   ]
  },
  {
   "cell_type": "code",
   "execution_count": 28,
   "id": "ce482d0e",
   "metadata": {},
   "outputs": [
    {
     "name": "stdout",
     "output_type": "stream",
     "text": [
      "('foodsales',)\n"
     ]
    }
   ],
   "source": [
    "mc.execute(\"show tables\")\n",
    "for x in mc:\n",
    "    print(x)"
   ]
  },
  {
   "cell_type": "code",
   "execution_count": 9,
   "id": "96fefce3",
   "metadata": {},
   "outputs": [
    {
     "name": "stdout",
     "output_type": "stream",
     "text": [
      "('East', 'Bars', 'Carrot', 245)\n",
      "('West', 'Cookies', 'Chocolate Chip', 306)\n"
     ]
    }
   ],
   "source": [
    "#regionwise highest sales\n",
    "mc.execute(\"select Region,Category,Product,max(Quantity) from foodsales group by Region\")\n",
    "for i in mc:\n",
    "    print(i)"
   ]
  },
  {
   "cell_type": "code",
   "execution_count": 8,
   "id": "28590ae5",
   "metadata": {},
   "outputs": [
    {
     "name": "stdout",
     "output_type": "stream",
     "text": [
      "[('Boston',), ('Los Angeles',), ('New York',), ('San Diego',)]\n"
     ]
    }
   ],
   "source": [
    "# distinct city\n",
    "mc.execute(\"SELECT DISTINCT City FROM foodsales\")\n",
    "r=mc.fetchall()\n",
    "print(r)"
   ]
  },
  {
   "cell_type": "code",
   "execution_count": 11,
   "id": "5e52cd6b",
   "metadata": {},
   "outputs": [
    {
     "name": "stdout",
     "output_type": "stream",
     "text": [
      "('Carrot',)\n",
      "('Whole Wheat',)\n",
      "('Chocolate Chip',)\n",
      "('Arrowroot',)\n",
      "('Potato Chips',)\n",
      "('Oatmeal Raisin',)\n",
      "('Bran',)\n",
      "('Pretzels',)\n",
      "('Banana',)\n"
     ]
    }
   ],
   "source": [
    "#distinct category\n",
    "mc.execute(\"select distinct Product from foodsales\")\n",
    "for x in mc:\n",
    "    print(x)"
   ]
  },
  {
   "cell_type": "code",
   "execution_count": 12,
   "id": "d7c0fa1f",
   "metadata": {},
   "outputs": [
    {
     "name": "stdout",
     "output_type": "stream",
     "text": [
      "('Bars',)\n",
      "('Crackers',)\n",
      "('Cookies',)\n",
      "('Snacks',)\n"
     ]
    }
   ],
   "source": [
    "#distinct Category\n",
    "mc.execute(\"select distinct Category from foodsales\")\n",
    "for x in mc:\n",
    "    print(x)"
   ]
  },
  {
   "cell_type": "code",
   "execution_count": 17,
   "id": "56915815",
   "metadata": {},
   "outputs": [
    {
     "name": "stdout",
     "output_type": "stream",
     "text": [
      "('East', 21524.35999999999)\n",
      "('West', 11801.219999999996)\n"
     ]
    }
   ],
   "source": [
    "#regionwise\n",
    "mc.execute(\"select Region,sum(TotalPrice) from foodsales group by Region\")\n",
    "for x in mc:\n",
    "    print(x)"
   ]
  },
  {
   "cell_type": "code",
   "execution_count": 29,
   "id": "c73694ab",
   "metadata": {},
   "outputs": [
    {
     "name": "stdout",
     "output_type": "stream",
     "text": [
      "('Boston', 13265.53)\n",
      "('Los Angeles', 7687.319999999998)\n",
      "('New York', 8258.830000000002)\n",
      "('San Diego', 4113.9000000000015)\n"
     ]
    }
   ],
   "source": [
    "#city wise\n",
    "mc.execute(\"select City,sum(TotalPrice) from foodsales group by City\")\n",
    "for x in mc:\n",
    "    print(x)"
   ]
  },
  {
   "cell_type": "code",
   "execution_count": 30,
   "id": "8674a87f",
   "metadata": {},
   "outputs": [
    {
     "name": "stdout",
     "output_type": "stream",
     "text": [
      "('Bars', 10535.570000000002)\n",
      "('Crackers', 3339.9299999999994)\n",
      "('Cookies', 17212.41)\n",
      "('Snacks', 2237.67)\n"
     ]
    }
   ],
   "source": [
    "#categorywise total sales\n",
    "mc.execute(\"select category,sum(totalprice) from foodsales group by category\")\n",
    "for c in mc:\n",
    "    print(c)"
   ]
  },
  {
   "cell_type": "code",
   "execution_count": 31,
   "id": "5acfaa22",
   "metadata": {},
   "outputs": [
    {
     "name": "stdout",
     "output_type": "stream",
     "text": [
      "('Carrot', 7410.990000000001)\n",
      "('Whole Wheat', 3339.9299999999994)\n",
      "('Chocolate Chip', 4572.150000000001)\n",
      "('Arrowroot', 5330.099999999999)\n",
      "('Potato Chips', 1651.7700000000002)\n",
      "('Oatmeal Raisin', 7310.159999999999)\n",
      "('Bran', 2945.25)\n",
      "('Pretzels', 585.9)\n",
      "('Banana', 179.32999999999998)\n"
     ]
    }
   ],
   "source": [
    "#product wise\n",
    "mc.execute(\"select product,sum(totalprice) from foodsales group by product\")\n",
    "for c in mc:\n",
    "    print(c)"
   ]
  },
  {
   "cell_type": "code",
   "execution_count": 33,
   "id": "04d5df02",
   "metadata": {},
   "outputs": [
    {
     "name": "stdout",
     "output_type": "stream",
     "text": [
      "('Carrot', 7410.990000000001)\n",
      "('Oatmeal Raisin', 7310.159999999999)\n",
      "('Arrowroot', 5330.099999999999)\n",
      "('Chocolate Chip', 4572.150000000001)\n",
      "('Whole Wheat', 3339.9299999999994)\n"
     ]
    }
   ],
   "source": [
    "#top 5 product\n",
    "mc.execute(\"select product, sum(totalprice) as total_rev from foodsales group by product order by total_rev desc limit 5\")\n",
    "for x in mc:\n",
    "    print(x)"
   ]
  },
  {
   "cell_type": "code",
   "execution_count": 34,
   "id": "efc6c29d",
   "metadata": {},
   "outputs": [
    {
     "name": "stdout",
     "output_type": "stream",
     "text": [
      "('Banana', 179.32999999999998)\n",
      "('Pretzels', 585.9)\n",
      "('Potato Chips', 1651.7700000000002)\n",
      "('Bran', 2945.25)\n",
      "('Whole Wheat', 3339.9299999999994)\n"
     ]
    }
   ],
   "source": [
    "#least 5 product\n",
    "mc.execute(\"select product, sum(totalprice) as total_rev from foodsales group by product order by total_rev limit 5\")\n",
    "for x in mc:\n",
    "    print(x)"
   ]
  },
  {
   "cell_type": "code",
   "execution_count": 35,
   "id": "425b9d83",
   "metadata": {},
   "outputs": [
    {
     "name": "stdout",
     "output_type": "stream",
     "text": [
      "('East', 'Crackers', 'Whole Wheat', 303.63)\n",
      "('West', 'Cookies', 'Chocolate Chip', 108.46)\n",
      "('East', 'Cookies', 'Chocolate Chip', 153.34)\n",
      "('East', 'Crackers', 'Whole Wheat', 520.01)\n",
      "('East', 'Bars', 'Carrot', 177.0)\n",
      "('East', 'Cookies', 'Oatmeal Raisin', 349.32)\n",
      "('East', 'Cookies', 'Chocolate Chip', 158.95)\n",
      "('East', 'Bars', 'Carrot', 107.97)\n",
      "('East', 'Crackers', 'Whole Wheat', 139.6)\n",
      "('West', 'Cookies', 'Chocolate Chip', 160.82)\n",
      "('East', 'Snacks', 'Potato Chips', 114.24)\n",
      "('East', 'Bars', 'Bran', 192.61)\n",
      "('East', 'Cookies', 'Oatmeal Raisin', 548.12)\n",
      "('West', 'Bars', 'Carrot', 102.66)\n",
      "('West', 'Snacks', 'Potato Chips', 114.24)\n",
      "('East', 'Bars', 'Carrot', 161.07)\n",
      "('East', 'Snacks', 'Potato Chips', 225.12)\n",
      "('East', 'Snacks', 'Potato Chips', 107.52)\n",
      "('West', 'Cookies', 'Chocolate Chip', 117.81)\n",
      "('East', 'Bars', 'Bran', 196.35)\n",
      "('East', 'Cookies', 'Oatmeal Raisin', 391.92)\n",
      "('East', 'Bars', 'Carrot', 107.97)\n",
      "('West', 'Cookies', 'Chocolate Chip', 102.85)\n",
      "('East', 'Bars', 'Carrot', 102.66)\n",
      "('East', 'Crackers', 'Whole Wheat', 115.17)\n",
      "('West', 'Cookies', 'Oatmeal Raisin', 817.92)\n",
      "('East', 'Cookies', 'Chocolate Chip', 142.12)\n",
      "('East', 'Bars', 'Carrot', 132.75)\n",
      "('East', 'Crackers', 'Whole Wheat', 132.62)\n",
      "('West', 'Bars', 'Carrot', 541.62)\n",
      "('East', 'Bars', 'Bran', 205.7)\n",
      "('East', 'Cookies', 'Oatmeal Raisin', 144.84)\n",
      "('East', 'Bars', 'Carrot', 240.72)\n",
      "('East', 'Crackers', 'Whole Wheat', 146.58)\n",
      "('West', 'Cookies', 'Chocolate Chip', 140.25)\n",
      "('East', 'Bars', 'Bran', 134.64)\n",
      "('East', 'Cookies', 'Oatmeal Raisin', 159.04)\n",
      "('East', 'Bars', 'Bran', 104.72)\n",
      "('East', 'Cookies', 'Oatmeal Raisin', 389.08)\n",
      "('West', 'Cookies', 'Chocolate Chip', 200.09)\n",
      "('East', 'Crackers', 'Whole Wheat', 104.7)\n",
      "('West', 'Cookies', 'Chocolate Chip', 130.9)\n",
      "('East', 'Bars', 'Carrot', 192.93)\n",
      "('West', 'Cookies', 'Chocolate Chip', 149.6)\n",
      "('East', 'Bars', 'Bran', 140.25)\n",
      "('East', 'Cookies', 'Oatmeal Raisin', 210.16)\n",
      "('East', 'Bars', 'Carrot', 253.11)\n",
      "('West', 'Bars', 'Carrot', 235.41)\n",
      "('East', 'Cookies', 'Arrowroot', 239.8)\n",
      "('East', 'Cookies', 'Chocolate Chip', 121.55)\n",
      "('East', 'Cookies', 'Arrowroot', 176.58)\n",
      "('East', 'Bars', 'Carrot', 136.29)\n",
      "('East', 'Crackers', 'Whole Wheat', 132.62)\n",
      "('West', 'Snacks', 'Potato Chips', 191.52)\n",
      "('East', 'Cookies', 'Arrowroot', 488.32)\n",
      "('East', 'Bars', 'Carrot', 249.57)\n",
      "('East', 'Crackers', 'Whole Wheat', 111.68)\n",
      "('East', 'Crackers', 'Whole Wheat', 160.54)\n",
      "('West', 'Snacks', 'Potato Chips', 104.16)\n",
      "('East', 'Bars', 'Carrot', 159.3)\n",
      "('West', 'Cookies', 'Arrowroot', 224.54)\n",
      "('East', 'Bars', 'Bran', 123.42)\n",
      "('East', 'Cookies', 'Oatmeal Raisin', 275.48)\n",
      "('East', 'Bars', 'Carrot', 162.84)\n",
      "('West', 'Cookies', 'Arrowroot', 303.02)\n",
      "('East', 'Crackers', 'Whole Wheat', 143.09)\n",
      "('East', 'Cookies', 'Arrowroot', 516.66)\n",
      "('East', 'Cookies', 'Chocolate Chip', 121.55)\n",
      "('West', 'Cookies', 'Arrowroot', 180.94)\n",
      "('East', 'Bars', 'Carrot', 111.51)\n",
      "('West', 'Bars', 'Bran', 143.99)\n",
      "('West', 'Cookies', 'Oatmeal Raisin', 227.2)\n",
      "('East', 'Bars', 'Carrot', 180.54)\n",
      "('East', 'Crackers', 'Whole Wheat', 108.19)\n",
      "('East', 'Cookies', 'Arrowroot', 113.36)\n",
      "('West', 'Cookies', 'Arrowroot', 126.44)\n",
      "('East', 'Bars', 'Carrot', 120.36)\n",
      "('West', 'Cookies', 'Chocolate Chip', 433.84)\n",
      "('East', 'Bars', 'Bran', 127.16)\n",
      "('East', 'Cookies', 'Oatmeal Raisin', 275.48)\n",
      "('West', 'Bars', 'Bran', 160.82)\n",
      "('East', 'Bars', 'Carrot', 164.61)\n",
      "('West', 'Bars', 'Carrot', 182.31)\n",
      "('East', 'Bars', 'Bran', 106.59)\n",
      "('East', 'Cookies', 'Oatmeal Raisin', 184.6)\n",
      "('West', 'Bars', 'Carrot', 208.86)\n",
      "('East', 'Cookies', 'Oatmeal Raisin', 349.32)\n",
      "('West', 'Bars', 'Carrot', 159.3)\n",
      "('West', 'Cookies', 'Chocolate Chip', 125.29)\n",
      "('East', 'Cookies', 'Oatmeal Raisin', 366.36)\n",
      "('West', 'Cookies', 'Arrowroot', 167.86)\n",
      "('West', 'Cookies', 'Chocolate Chip', 108.46)\n",
      "('West', 'Cookies', 'Chocolate Chip', 153.34)\n",
      "('East', 'Bars', 'Carrot', 102.66)\n",
      "('East', 'Bars', 'Carrot', 148.68)\n",
      "('West', 'Cookies', 'Oatmeal Raisin', 124.96)\n",
      "('East', 'Cookies', 'Oatmeal Raisin', 340.8)\n",
      "('West', 'Bars', 'Carrot', 129.21)\n",
      "('East', 'Cookies', 'Oatmeal Raisin', 113.6)\n",
      "('East', 'Crackers', 'Whole Wheat', 118.66)\n",
      "('West', 'Bars', 'Bran', 121.55)\n",
      "('West', 'Cookies', 'Oatmeal Raisin', 170.4)\n",
      "('West', 'Cookies', 'Chocolate Chip', 119.68)\n",
      "('East', 'Bars', 'Carrot', 125.67)\n",
      "('West', 'Cookies', 'Arrowroot', 196.2)\n",
      "('West', 'Cookies', 'Oatmeal Raisin', 107.92)\n",
      "('East', 'Cookies', 'Oatmeal Raisin', 116.44)\n",
      "('East', 'Cookies', 'Arrowroot', 296.48)\n",
      "('West', 'Cookies', 'Oatmeal Raisin', 224.36)\n",
      "('West', 'Cookies', 'Oatmeal Raisin', 133.48)\n",
      "('East', 'Cookies', 'Arrowroot', 381.5)\n",
      "('East', 'Cookies', 'Arrowroot', 189.66)\n",
      "('East', 'Crackers', 'Whole Wheat', 104.7)\n",
      "('East', 'Bars', 'Bran', 106.59)\n",
      "('East', 'Bars', 'Bran', 155.21)\n",
      "('East', 'Cookies', 'Oatmeal Raisin', 352.16)\n",
      "('West', 'Bars', 'Carrot', 242.49)\n",
      "('East', 'Cookies', 'Arrowroot', 318.28)\n",
      "('East', 'Cookies', 'Arrowroot', 303.02)\n",
      "('East', 'Cookies', 'Chocolate Chip', 394.57)\n",
      "('West', 'Cookies', 'Oatmeal Raisin', 284.0)\n",
      "('West', 'Cookies', 'Chocolate Chip', 179.52)\n",
      "('East', 'Cookies', 'Chocolate Chip', 458.15)\n",
      "('East', 'Crackers', 'Whole Wheat', 104.7)\n",
      "('West', 'Cookies', 'Oatmeal Raisin', 124.96)\n"
     ]
    }
   ],
   "source": [
    "#totalprice greater than 100\n",
    "mc.execute(\"select region,category,product,totalprice from foodsales where totalprice>100\")\n",
    "for i in mc:\n",
    "    print(i)"
   ]
  },
  {
   "cell_type": "code",
   "execution_count": 40,
   "id": "8f1d6d75",
   "metadata": {},
   "outputs": [
    {
     "name": "stdout",
     "output_type": "stream",
     "text": [
      "('07-01-2020', 'West', 'Los Angeles', 'Cookies', 'Chocolate Chip', 58, 1.87, 108.46)\n",
      "('10-01-2020', 'East', 'New York', 'Cookies', 'Chocolate Chip', 82, 1.87, 153.34)\n",
      "('13-01-2020', 'East', 'Boston', 'Cookies', 'Arrowroot', 38, 2.18, 82.84)\n",
      "('31-01-2020', 'East', 'Boston', 'Cookies', 'Arrowroot', 36, 2.18, 78.48)\n",
      "('03-02-2020', 'East', 'Boston', 'Cookies', 'Chocolate Chip', 31, 1.87, 57.97)\n",
      "('18-02-2020', 'East', 'Boston', 'Cookies', 'Arrowroot', 43, 2.18, 93.74)\n",
      "('21-02-2020', 'East', 'Boston', 'Cookies', 'Oatmeal Raisin', 123, 2.84, 349.32)\n",
      "('27-02-2020', 'West', 'Los Angeles', 'Cookies', 'Oatmeal Raisin', 33, 2.84, 93.72)\n",
      "('02-03-2020', 'East', 'New York', 'Cookies', 'Chocolate Chip', 85, 1.87, 158.95)\n",
      "('05-03-2020', 'West', 'San Diego', 'Cookies', 'Oatmeal Raisin', 30, 2.84, 85.2)\n",
      "('14-03-2020', 'West', 'Los Angeles', 'Cookies', 'Chocolate Chip', 86, 1.87, 160.82)\n",
      "('23-03-2020', 'West', 'San Diego', 'Cookies', 'Chocolate Chip', 39, 1.87, 72.93)\n",
      "('29-03-2020', 'East', 'Boston', 'Cookies', 'Oatmeal Raisin', 193, 2.84, 548.12)\n",
      "('01-05-2020', 'West', 'San Diego', 'Cookies', 'Chocolate Chip', 63, 1.87, 117.81)\n",
      "('07-05-2020', 'East', 'Boston', 'Cookies', 'Oatmeal Raisin', 138, 2.84, 391.92)\n",
      "('22-05-2020', 'West', 'San Diego', 'Cookies', 'Chocolate Chip', 55, 1.87, 102.85)\n",
      "('25-05-2020', 'East', 'Boston', 'Cookies', 'Arrowroot', 27, 2.18, 58.86)\n",
      "('03-06-2020', 'West', 'Los Angeles', 'Cookies', 'Oatmeal Raisin', 288, 2.84, 817.92)\n",
      "('06-06-2020', 'East', 'New York', 'Cookies', 'Chocolate Chip', 76, 1.87, 142.12)\n",
      "('30-06-2020', 'East', 'New York', 'Cookies', 'Oatmeal Raisin', 51, 2.84, 144.84)\n",
      "('15-07-2020', 'West', 'Los Angeles', 'Cookies', 'Chocolate Chip', 75, 1.87, 140.25)\n",
      "('21-07-2020', 'East', 'New York', 'Cookies', 'Oatmeal Raisin', 56, 2.84, 159.04)\n",
      "('02-08-2020', 'East', 'Boston', 'Cookies', 'Oatmeal Raisin', 137, 2.84, 389.08)\n",
      "('05-08-2020', 'West', 'Los Angeles', 'Cookies', 'Chocolate Chip', 107, 1.87, 200.09)\n",
      "('14-08-2020', 'West', 'San Diego', 'Cookies', 'Chocolate Chip', 70, 1.87, 130.9)\n",
      "('17-08-2020', 'East', 'Boston', 'Cookies', 'Arrowroot', 31, 2.18, 67.58)\n",
      "('26-08-2020', 'West', 'Los Angeles', 'Cookies', 'Chocolate Chip', 80, 1.87, 149.6)\n",
      "('01-09-2020', 'East', 'New York', 'Cookies', 'Oatmeal Raisin', 74, 2.84, 210.16)\n",
      "('07-09-2020', 'East', 'Boston', 'Cookies', 'Arrowroot', 28, 2.18, 61.04)\n",
      "('19-09-2020', 'East', 'New York', 'Cookies', 'Arrowroot', 110, 2.18, 239.8)\n",
      "('22-09-2020', 'East', 'New York', 'Cookies', 'Chocolate Chip', 65, 1.87, 121.55)\n",
      "('28-09-2020', 'East', 'Boston', 'Cookies', 'Arrowroot', 81, 2.18, 176.58)\n",
      "('13-10-2020', 'East', 'New York', 'Cookies', 'Arrowroot', 224, 2.18, 488.32)\n",
      "('25-10-2020', 'East', 'Boston', 'Cookies', 'Arrowroot', 40, 2.18, 87.2)\n",
      "('28-10-2020', 'East', 'Boston', 'Cookies', 'Chocolate Chip', 49, 1.87, 91.63)\n",
      "('12-11-2020', 'West', 'San Diego', 'Cookies', 'Arrowroot', 103, 2.18, 224.54)\n",
      "('15-11-2020', 'West', 'San Diego', 'Cookies', 'Oatmeal Raisin', 32, 2.84, 90.88)\n",
      "('21-11-2020', 'East', 'Boston', 'Cookies', 'Oatmeal Raisin', 97, 2.84, 275.48)\n",
      "('03-12-2020', 'West', 'San Diego', 'Cookies', 'Arrowroot', 139, 2.18, 303.02)\n",
      "('06-12-2020', 'West', 'San Diego', 'Cookies', 'Oatmeal Raisin', 29, 2.84, 82.36)\n",
      "('12-12-2020', 'East', 'Boston', 'Cookies', 'Chocolate Chip', 36, 1.87, 67.32)\n",
      "('24-12-2020', 'East', 'New York', 'Cookies', 'Arrowroot', 237, 2.18, 516.66)\n",
      "('27-12-2020', 'East', 'New York', 'Cookies', 'Chocolate Chip', 65, 1.87, 121.55)\n",
      "('30-12-2020', 'West', 'San Diego', 'Cookies', 'Arrowroot', 83, 2.18, 180.94)\n",
      "('02-01-2021', 'East', 'Boston', 'Cookies', 'Arrowroot', 32, 2.18, 69.76)\n",
      "('14-01-2021', 'West', 'Los Angeles', 'Cookies', 'Oatmeal Raisin', 80, 2.84, 227.2)\n",
      "('26-01-2021', 'East', 'Boston', 'Cookies', 'Arrowroot', 52, 2.18, 113.36)\n",
      "('04-02-2021', 'West', 'Los Angeles', 'Cookies', 'Arrowroot', 58, 2.18, 126.44)\n",
      "('07-02-2021', 'West', 'Los Angeles', 'Cookies', 'Chocolate Chip', 34, 1.87, 63.58)\n",
      "('16-02-2021', 'West', 'San Diego', 'Cookies', 'Oatmeal Raisin', 29, 2.84, 82.36)\n",
      "('25-02-2021', 'West', 'Los Angeles', 'Cookies', 'Arrowroot', 30, 2.18, 65.4)\n",
      "('28-02-2021', 'West', 'Los Angeles', 'Cookies', 'Chocolate Chip', 232, 1.87, 433.84)\n",
      "('05-03-2021', 'East', 'New York', 'Cookies', 'Oatmeal Raisin', 97, 2.84, 275.48)\n",
      "('29-03-2021', 'East', 'New York', 'Cookies', 'Oatmeal Raisin', 65, 2.84, 184.6)\n",
      "('04-04-2021', 'East', 'Boston', 'Cookies', 'Arrowroot', 36, 2.18, 78.48)\n",
      "('07-04-2021', 'East', 'Boston', 'Cookies', 'Oatmeal Raisin', 123, 2.84, 349.32)\n",
      "('22-04-2021', 'West', 'San Diego', 'Cookies', 'Chocolate Chip', 67, 1.87, 125.29)\n",
      "('28-04-2021', 'East', 'Boston', 'Cookies', 'Oatmeal Raisin', 129, 2.84, 366.36)\n",
      "('01-05-2021', 'West', 'Los Angeles', 'Cookies', 'Arrowroot', 77, 2.18, 167.86)\n",
      "('04-05-2021', 'West', 'Los Angeles', 'Cookies', 'Chocolate Chip', 58, 1.87, 108.46)\n",
      "('10-05-2021', 'East', 'New York', 'Cookies', 'Oatmeal Raisin', 33, 2.84, 93.72)\n",
      "('13-05-2021', 'West', 'San Diego', 'Cookies', 'Chocolate Chip', 82, 1.87, 153.34)\n",
      "('22-05-2021', 'West', 'Los Angeles', 'Cookies', 'Chocolate Chip', 43, 1.87, 80.41)\n",
      "('28-05-2021', 'West', 'San Diego', 'Cookies', 'Arrowroot', 36, 2.18, 78.48)\n",
      "('31-05-2021', 'West', 'San Diego', 'Cookies', 'Oatmeal Raisin', 44, 2.84, 124.96)\n",
      "('06-06-2021', 'East', 'Boston', 'Cookies', 'Oatmeal Raisin', 120, 2.84, 340.8)\n",
      "('18-06-2021', 'East', 'New York', 'Cookies', 'Oatmeal Raisin', 40, 2.84, 113.6)\n",
      "('27-06-2021', 'East', 'Boston', 'Cookies', 'Chocolate Chip', 38, 1.87, 71.06)\n",
      "('06-07-2021', 'West', 'Los Angeles', 'Cookies', 'Oatmeal Raisin', 60, 2.84, 170.4)\n",
      "('09-07-2021', 'East', 'New York', 'Cookies', 'Arrowroot', 37, 2.18, 80.66)\n",
      "('12-07-2021', 'East', 'New York', 'Cookies', 'Chocolate Chip', 40, 1.87, 74.8)\n",
      "('21-07-2021', 'East', 'Boston', 'Cookies', 'Chocolate Chip', 32, 1.87, 59.84)\n",
      "('27-07-2021', 'West', 'Los Angeles', 'Cookies', 'Arrowroot', 20, 2.18, 43.6)\n",
      "('30-07-2021', 'West', 'Los Angeles', 'Cookies', 'Chocolate Chip', 64, 1.87, 119.68)\n",
      "('05-08-2021', 'West', 'San Diego', 'Cookies', 'Arrowroot', 90, 2.18, 196.2)\n",
      "('08-08-2021', 'West', 'San Diego', 'Cookies', 'Oatmeal Raisin', 38, 2.84, 107.92)\n",
      "('23-08-2021', 'East', 'New York', 'Cookies', 'Oatmeal Raisin', 41, 2.84, 116.44)\n",
      "('29-08-2021', 'East', 'Boston', 'Cookies', 'Arrowroot', 136, 2.18, 296.48)\n",
      "('10-09-2021', 'West', 'Los Angeles', 'Cookies', 'Oatmeal Raisin', 79, 2.84, 224.36)\n",
      "('22-09-2021', 'East', 'Boston', 'Cookies', 'Arrowroot', 40, 2.18, 87.2)\n",
      "('04-10-2021', 'West', 'Los Angeles', 'Cookies', 'Oatmeal Raisin', 47, 2.84, 133.48)\n",
      "('07-10-2021', 'East', 'New York', 'Cookies', 'Arrowroot', 175, 2.18, 381.5)\n",
      "('10-10-2021', 'East', 'New York', 'Cookies', 'Chocolate Chip', 23, 1.87, 43.01)\n",
      "('16-10-2021', 'East', 'Boston', 'Cookies', 'Arrowroot', 87, 2.18, 189.66)\n",
      "('03-11-2021', 'West', 'San Diego', 'Cookies', 'Chocolate Chip', 24, 1.87, 44.88)\n",
      "('09-11-2021', 'East', 'Boston', 'Cookies', 'Oatmeal Raisin', 124, 2.84, 352.16)\n",
      "('15-11-2021', 'East', 'New York', 'Cookies', 'Arrowroot', 146, 2.18, 318.28)\n",
      "('18-11-2021', 'East', 'New York', 'Cookies', 'Chocolate Chip', 34, 1.87, 63.58)\n",
      "('24-11-2021', 'East', 'Boston', 'Cookies', 'Arrowroot', 139, 2.18, 303.02)\n",
      "('27-11-2021', 'East', 'Boston', 'Cookies', 'Chocolate Chip', 211, 1.87, 394.57)\n",
      "('06-12-2021', 'West', 'Los Angeles', 'Cookies', 'Oatmeal Raisin', 100, 2.84, 284.0)\n",
      "('15-12-2021', 'West', 'San Diego', 'Cookies', 'Chocolate Chip', 96, 1.87, 179.52)\n",
      "('18-12-2021', 'East', 'Boston', 'Cookies', 'Arrowroot', 34, 2.18, 74.12)\n",
      "('21-12-2021', 'East', 'Boston', 'Cookies', 'Chocolate Chip', 245, 1.87, 458.15)\n",
      "('30-12-2021', 'West', 'Los Angeles', 'Cookies', 'Oatmeal Raisin', 44, 2.84, 124.96)\n"
     ]
    }
   ],
   "source": [
    "mc.execute(\"select * from foodsales where category='cookies'\")\n",
    "for i in mc:\n",
    "    print(i)"
   ]
  },
  {
   "cell_type": "code",
   "execution_count": 42,
   "id": "7ffb374e",
   "metadata": {},
   "outputs": [
    {
     "name": "stdout",
     "output_type": "stream",
     "text": [
      "('10-01-2020', 'East', 'New York', 'Cookies', 'Chocolate Chip', 82, 1.87, 153.34)\n",
      "('02-03-2020', 'East', 'New York', 'Cookies', 'Chocolate Chip', 85, 1.87, 158.95)\n",
      "('06-06-2020', 'East', 'New York', 'Cookies', 'Chocolate Chip', 76, 1.87, 142.12)\n",
      "('22-09-2020', 'East', 'New York', 'Cookies', 'Chocolate Chip', 65, 1.87, 121.55)\n",
      "('27-12-2020', 'East', 'New York', 'Cookies', 'Chocolate Chip', 65, 1.87, 121.55)\n",
      "('12-07-2021', 'East', 'New York', 'Cookies', 'Chocolate Chip', 40, 1.87, 74.8)\n",
      "('10-10-2021', 'East', 'New York', 'Cookies', 'Chocolate Chip', 23, 1.87, 43.01)\n",
      "('18-11-2021', 'East', 'New York', 'Cookies', 'Chocolate Chip', 34, 1.87, 63.58)\n"
     ]
    }
   ],
   "source": [
    "mc.execute(\"select * from foodsales where category='cookies' and region='east' and product='chocolate chip' and city='new york'\")\n",
    "for i in mc:\n",
    "    print(i)"
   ]
  },
  {
   "cell_type": "code",
   "execution_count": 44,
   "id": "7340e022",
   "metadata": {},
   "outputs": [
    {
     "name": "stdout",
     "output_type": "stream",
     "text": [
      "('01-01-2020', 'East', 'Boston', 'Bars', 'Carrot', 33, 1.77, 58.41)\n",
      "('04-01-2020', 'East', 'Boston', 'Crackers', 'Whole Wheat', 87, 3.49, 303.63)\n",
      "('10-01-2020', 'East', 'New York', 'Cookies', 'Chocolate Chip', 82, 1.87, 153.34)\n",
      "('13-01-2020', 'East', 'Boston', 'Cookies', 'Arrowroot', 38, 2.18, 82.84)\n",
      "('16-01-2020', 'East', 'Boston', 'Bars', 'Carrot', 54, 1.77, 95.58)\n",
      "('19-01-2020', 'East', 'Boston', 'Crackers', 'Whole Wheat', 149, 3.49, 520.01)\n",
      "('25-01-2020', 'East', 'New York', 'Bars', 'Carrot', 100, 1.77, 177.0)\n",
      "('28-01-2020', 'East', 'New York', 'Snacks', 'Potato Chips', 28, 1.35, 37.8)\n",
      "('31-01-2020', 'East', 'Boston', 'Cookies', 'Arrowroot', 36, 2.18, 78.48)\n",
      "('03-02-2020', 'East', 'Boston', 'Cookies', 'Chocolate Chip', 31, 1.87, 57.97)\n",
      "('06-02-2020', 'East', 'Boston', 'Crackers', 'Whole Wheat', 28, 3.49, 97.72)\n",
      "('12-02-2020', 'East', 'New York', 'Bars', 'Carrot', 23, 1.77, 40.71)\n",
      "('15-02-2020', 'East', 'New York', 'Snacks', 'Potato Chips', 27, 1.35, 36.45)\n",
      "('18-02-2020', 'East', 'Boston', 'Cookies', 'Arrowroot', 43, 2.18, 93.74)\n",
      "('21-02-2020', 'East', 'Boston', 'Cookies', 'Oatmeal Raisin', 123, 2.84, 349.32)\n",
      "('02-03-2020', 'East', 'New York', 'Cookies', 'Chocolate Chip', 85, 1.87, 158.95)\n",
      "('08-03-2020', 'East', 'Boston', 'Bars', 'Carrot', 61, 1.77, 107.97)\n",
      "('11-03-2020', 'East', 'Boston', 'Crackers', 'Whole Wheat', 40, 3.49, 139.6)\n",
      "('17-03-2020', 'East', 'New York', 'Bars', 'Carrot', 38, 1.77, 67.26)\n",
      "('20-03-2020', 'East', 'New York', 'Snacks', 'Potato Chips', 68, 1.68, 114.24)\n",
      "('26-03-2020', 'East', 'Boston', 'Bars', 'Bran', 103, 1.87, 192.61)\n",
      "('29-03-2020', 'East', 'Boston', 'Cookies', 'Oatmeal Raisin', 193, 2.84, 548.12)\n",
      "('07-04-2020', 'East', 'New York', 'Bars', 'Carrot', 91, 1.77, 161.07)\n",
      "('10-04-2020', 'East', 'New York', 'Crackers', 'Whole Wheat', 23, 3.49, 80.27)\n",
      "('16-04-2020', 'East', 'Boston', 'Bars', 'Carrot', 48, 1.77, 84.96)\n",
      "('19-04-2020', 'East', 'Boston', 'Snacks', 'Potato Chips', 134, 1.68, 225.12)\n",
      "('25-04-2020', 'East', 'New York', 'Bars', 'Carrot', 53, 1.77, 93.81)\n",
      "('28-04-2020', 'East', 'New York', 'Snacks', 'Potato Chips', 64, 1.68, 107.52)\n",
      "('04-05-2020', 'East', 'Boston', 'Bars', 'Bran', 105, 1.87, 196.35)\n",
      "('07-05-2020', 'East', 'Boston', 'Cookies', 'Oatmeal Raisin', 138, 2.84, 391.92)\n",
      "('16-05-2020', 'East', 'New York', 'Bars', 'Carrot', 61, 1.77, 107.97)\n",
      "('19-05-2020', 'East', 'New York', 'Snacks', 'Potato Chips', 49, 1.68, 82.32)\n",
      "('25-05-2020', 'East', 'Boston', 'Cookies', 'Arrowroot', 27, 2.18, 58.86)\n",
      "('28-05-2020', 'East', 'Boston', 'Bars', 'Carrot', 58, 1.77, 102.66)\n",
      "('31-05-2020', 'East', 'Boston', 'Crackers', 'Whole Wheat', 33, 3.49, 115.17)\n",
      "('06-06-2020', 'East', 'New York', 'Cookies', 'Chocolate Chip', 76, 1.87, 142.12)\n",
      "('15-06-2020', 'East', 'Boston', 'Bars', 'Carrot', 75, 1.77, 132.75)\n",
      "('18-06-2020', 'East', 'Boston', 'Crackers', 'Whole Wheat', 38, 3.49, 132.62)\n",
      "('27-06-2020', 'East', 'New York', 'Bars', 'Bran', 110, 1.87, 205.7)\n",
      "('30-06-2020', 'East', 'New York', 'Cookies', 'Oatmeal Raisin', 51, 2.84, 144.84)\n",
      "('09-07-2020', 'East', 'Boston', 'Bars', 'Carrot', 136, 1.77, 240.72)\n",
      "('12-07-2020', 'East', 'Boston', 'Crackers', 'Whole Wheat', 42, 3.49, 146.58)\n",
      "('18-07-2020', 'East', 'New York', 'Bars', 'Bran', 72, 1.87, 134.64)\n",
      "('21-07-2020', 'East', 'New York', 'Cookies', 'Oatmeal Raisin', 56, 2.84, 159.04)\n",
      "('30-07-2020', 'East', 'Boston', 'Bars', 'Bran', 56, 1.87, 104.72)\n",
      "('02-08-2020', 'East', 'Boston', 'Cookies', 'Oatmeal Raisin', 137, 2.84, 389.08)\n",
      "('08-08-2020', 'East', 'New York', 'Bars', 'Carrot', 24, 1.77, 42.48)\n",
      "('11-08-2020', 'East', 'New York', 'Crackers', 'Whole Wheat', 30, 3.49, 104.7)\n",
      "('17-08-2020', 'East', 'Boston', 'Cookies', 'Arrowroot', 31, 2.18, 67.58)\n",
      "('20-08-2020', 'East', 'Boston', 'Bars', 'Carrot', 109, 1.77, 192.93)\n",
      "('23-08-2020', 'East', 'Boston', 'Crackers', 'Whole Wheat', 21, 3.49, 73.29)\n",
      "('29-08-2020', 'East', 'New York', 'Bars', 'Bran', 75, 1.87, 140.25)\n",
      "('01-09-2020', 'East', 'New York', 'Cookies', 'Oatmeal Raisin', 74, 2.84, 210.16)\n",
      "('07-09-2020', 'East', 'Boston', 'Cookies', 'Arrowroot', 28, 2.18, 61.04)\n",
      "('10-09-2020', 'East', 'Boston', 'Bars', 'Carrot', 143, 1.77, 253.11)\n",
      "('13-09-2020', 'East', 'Boston', 'Snacks', 'Pretzels', 27, 3.15, 85.05)\n",
      "('19-09-2020', 'East', 'New York', 'Cookies', 'Arrowroot', 110, 2.18, 239.8)\n",
      "('22-09-2020', 'East', 'New York', 'Cookies', 'Chocolate Chip', 65, 1.87, 121.55)\n",
      "('28-09-2020', 'East', 'Boston', 'Cookies', 'Arrowroot', 81, 2.18, 176.58)\n",
      "('01-10-2020', 'East', 'Boston', 'Bars', 'Carrot', 77, 1.77, 136.29)\n",
      "('04-10-2020', 'East', 'Boston', 'Crackers', 'Whole Wheat', 38, 3.49, 132.62)\n",
      "('13-10-2020', 'East', 'New York', 'Cookies', 'Arrowroot', 224, 2.18, 488.32)\n",
      "('16-10-2020', 'East', 'New York', 'Bars', 'Carrot', 141, 1.77, 249.57)\n",
      "('19-10-2020', 'East', 'New York', 'Crackers', 'Whole Wheat', 32, 3.49, 111.68)\n",
      "('25-10-2020', 'East', 'Boston', 'Cookies', 'Arrowroot', 40, 2.18, 87.2)\n",
      "('28-10-2020', 'East', 'Boston', 'Cookies', 'Chocolate Chip', 49, 1.87, 91.63)\n",
      "('31-10-2020', 'East', 'Boston', 'Crackers', 'Whole Wheat', 46, 3.49, 160.54)\n",
      "('09-11-2020', 'East', 'New York', 'Bars', 'Carrot', 90, 1.77, 159.3)\n",
      "('18-11-2020', 'East', 'Boston', 'Bars', 'Bran', 66, 1.87, 123.42)\n",
      "('21-11-2020', 'East', 'Boston', 'Cookies', 'Oatmeal Raisin', 97, 2.84, 275.48)\n",
      "('30-11-2020', 'East', 'New York', 'Bars', 'Carrot', 92, 1.77, 162.84)\n",
      "('09-12-2020', 'East', 'Boston', 'Bars', 'Banana', 30, 2.27, 68.1)\n",
      "('12-12-2020', 'East', 'Boston', 'Cookies', 'Chocolate Chip', 36, 1.87, 67.32)\n",
      "('15-12-2020', 'East', 'Boston', 'Crackers', 'Whole Wheat', 41, 3.49, 143.09)\n",
      "('24-12-2020', 'East', 'New York', 'Cookies', 'Arrowroot', 237, 2.18, 516.66)\n",
      "('27-12-2020', 'East', 'New York', 'Cookies', 'Chocolate Chip', 65, 1.87, 121.55)\n",
      "('02-01-2021', 'East', 'Boston', 'Cookies', 'Arrowroot', 32, 2.18, 69.76)\n",
      "('05-01-2021', 'East', 'Boston', 'Bars', 'Carrot', 63, 1.77, 111.51)\n",
      "('08-01-2021', 'East', 'Boston', 'Snacks', 'Pretzels', 29, 3.15, 91.35)\n",
      "('17-01-2021', 'East', 'New York', 'Bars', 'Carrot', 102, 1.77, 180.54)\n",
      "('20-01-2021', 'East', 'New York', 'Crackers', 'Whole Wheat', 31, 3.49, 108.19)\n",
      "('26-01-2021', 'East', 'Boston', 'Cookies', 'Arrowroot', 52, 2.18, 113.36)\n",
      "('29-01-2021', 'East', 'Boston', 'Bars', 'Carrot', 51, 1.77, 90.27)\n",
      "('01-02-2021', 'East', 'Boston', 'Snacks', 'Potato Chips', 24, 1.68, 40.32)\n",
      "('10-02-2021', 'East', 'New York', 'Bars', 'Carrot', 34, 1.77, 60.18)\n",
      "('13-02-2021', 'East', 'New York', 'Snacks', 'Potato Chips', 21, 1.68, 35.28)\n",
      "('19-02-2021', 'East', 'Boston', 'Bars', 'Carrot', 68, 1.77, 120.36)\n",
      "('22-02-2021', 'East', 'Boston', 'Snacks', 'Pretzels', 31, 3.15, 97.65)\n",
      "('02-03-2021', 'East', 'New York', 'Bars', 'Bran', 68, 1.87, 127.16)\n",
      "('05-03-2021', 'East', 'New York', 'Cookies', 'Oatmeal Raisin', 97, 2.84, 275.48)\n",
      "('14-03-2021', 'East', 'Boston', 'Bars', 'Carrot', 93, 1.77, 164.61)\n",
      "('17-03-2021', 'East', 'Boston', 'Snacks', 'Potato Chips', 47, 1.68, 78.96)\n",
      "('26-03-2021', 'East', 'New York', 'Bars', 'Bran', 57, 1.87, 106.59)\n",
      "('29-03-2021', 'East', 'New York', 'Cookies', 'Oatmeal Raisin', 65, 2.84, 184.6)\n",
      "('04-04-2021', 'East', 'Boston', 'Cookies', 'Arrowroot', 36, 2.18, 78.48)\n",
      "('07-04-2021', 'East', 'Boston', 'Cookies', 'Oatmeal Raisin', 123, 2.84, 349.32)\n",
      "('16-04-2021', 'East', 'New York', 'Bars', 'Carrot', 48, 1.77, 84.96)\n",
      "('19-04-2021', 'East', 'New York', 'Snacks', 'Potato Chips', 24, 1.68, 40.32)\n",
      "('25-04-2021', 'East', 'Boston', 'Bars', 'Bran', 27, 1.87, 50.49)\n",
      "('28-04-2021', 'East', 'Boston', 'Cookies', 'Oatmeal Raisin', 129, 2.84, 366.36)\n",
      "('07-05-2021', 'East', 'New York', 'Bars', 'Bran', 47, 1.87, 87.89)\n",
      "('10-05-2021', 'East', 'New York', 'Cookies', 'Oatmeal Raisin', 33, 2.84, 93.72)\n",
      "('16-05-2021', 'East', 'Boston', 'Bars', 'Carrot', 58, 1.77, 102.66)\n",
      "('19-05-2021', 'East', 'Boston', 'Snacks', 'Pretzels', 30, 3.15, 94.5)\n",
      "('25-05-2021', 'East', 'New York', 'Bars', 'Carrot', 84, 1.77, 148.68)\n",
      "('03-06-2021', 'East', 'Boston', 'Bars', 'Bran', 27, 1.87, 50.49)\n",
      "('06-06-2021', 'East', 'Boston', 'Cookies', 'Oatmeal Raisin', 120, 2.84, 340.8)\n",
      "('09-06-2021', 'East', 'Boston', 'Crackers', 'Whole Wheat', 26, 3.49, 90.74)\n",
      "('15-06-2021', 'East', 'New York', 'Bars', 'Bran', 38, 1.87, 71.06)\n",
      "('18-06-2021', 'East', 'New York', 'Cookies', 'Oatmeal Raisin', 40, 2.84, 113.6)\n",
      "('24-06-2021', 'East', 'Boston', 'Bars', 'Banana', 27, 2.27, 61.29)\n",
      "('27-06-2021', 'East', 'Boston', 'Cookies', 'Chocolate Chip', 38, 1.87, 71.06)\n",
      "('30-06-2021', 'East', 'Boston', 'Crackers', 'Whole Wheat', 34, 3.49, 118.66)\n",
      "('09-07-2021', 'East', 'New York', 'Cookies', 'Arrowroot', 37, 2.18, 80.66)\n",
      "('12-07-2021', 'East', 'New York', 'Cookies', 'Chocolate Chip', 40, 1.87, 74.8)\n",
      "('18-07-2021', 'East', 'Boston', 'Bars', 'Banana', 22, 2.27, 49.94)\n",
      "('21-07-2021', 'East', 'Boston', 'Cookies', 'Chocolate Chip', 32, 1.87, 59.84)\n",
      "('24-07-2021', 'East', 'Boston', 'Crackers', 'Whole Wheat', 23, 3.49, 80.27)\n",
      "('02-08-2021', 'East', 'New York', 'Bars', 'Carrot', 71, 1.77, 125.67)\n",
      "('11-08-2021', 'East', 'Boston', 'Bars', 'Carrot', 55, 1.77, 97.35)\n",
      "('14-08-2021', 'East', 'Boston', 'Snacks', 'Pretzels', 22, 3.15, 69.3)\n",
      "('20-08-2021', 'East', 'New York', 'Bars', 'Bran', 39, 1.87, 72.93)\n",
      "('23-08-2021', 'East', 'New York', 'Cookies', 'Oatmeal Raisin', 41, 2.84, 116.44)\n",
      "('29-08-2021', 'East', 'Boston', 'Cookies', 'Arrowroot', 136, 2.18, 296.48)\n",
      "('01-09-2021', 'East', 'Boston', 'Bars', 'Carrot', 25, 1.77, 44.25)\n",
      "('04-09-2021', 'East', 'Boston', 'Snacks', 'Pretzels', 26, 3.15, 81.9)\n",
      "('13-09-2021', 'East', 'New York', 'Bars', 'Carrot', 30, 1.77, 53.1)\n",
      "('16-09-2021', 'East', 'New York', 'Snacks', 'Potato Chips', 20, 1.68, 33.6)\n",
      "('22-09-2021', 'East', 'Boston', 'Cookies', 'Arrowroot', 40, 2.18, 87.2)\n",
      "('25-09-2021', 'East', 'Boston', 'Bars', 'Carrot', 31, 1.77, 54.87)\n",
      "('28-09-2021', 'East', 'Boston', 'Snacks', 'Pretzels', 21, 3.15, 66.15)\n",
      "('07-10-2021', 'East', 'New York', 'Cookies', 'Arrowroot', 175, 2.18, 381.5)\n",
      "('10-10-2021', 'East', 'New York', 'Cookies', 'Chocolate Chip', 23, 1.87, 43.01)\n",
      "('16-10-2021', 'East', 'Boston', 'Cookies', 'Arrowroot', 87, 2.18, 189.66)\n",
      "('19-10-2021', 'East', 'Boston', 'Bars', 'Carrot', 43, 1.77, 76.11)\n",
      "('22-10-2021', 'East', 'Boston', 'Crackers', 'Whole Wheat', 30, 3.49, 104.7)\n",
      "('28-10-2021', 'East', 'New York', 'Bars', 'Bran', 57, 1.87, 106.59)\n",
      "('31-10-2021', 'East', 'New York', 'Snacks', 'Potato Chips', 25, 1.68, 42.0)\n",
      "('06-11-2021', 'East', 'Boston', 'Bars', 'Bran', 83, 1.87, 155.21)\n",
      "('09-11-2021', 'East', 'Boston', 'Cookies', 'Oatmeal Raisin', 124, 2.84, 352.16)\n",
      "('15-11-2021', 'East', 'New York', 'Cookies', 'Arrowroot', 146, 2.18, 318.28)\n",
      "('18-11-2021', 'East', 'New York', 'Cookies', 'Chocolate Chip', 34, 1.87, 63.58)\n",
      "('24-11-2021', 'East', 'Boston', 'Cookies', 'Arrowroot', 139, 2.18, 303.02)\n",
      "('27-11-2021', 'East', 'Boston', 'Cookies', 'Chocolate Chip', 211, 1.87, 394.57)\n",
      "('30-11-2021', 'East', 'Boston', 'Crackers', 'Whole Wheat', 20, 3.49, 69.8)\n",
      "('09-12-2021', 'East', 'New York', 'Bars', 'Carrot', 38, 1.77, 67.26)\n",
      "('12-12-2021', 'East', 'New York', 'Crackers', 'Whole Wheat', 25, 3.49, 87.25)\n",
      "('18-12-2021', 'East', 'Boston', 'Cookies', 'Arrowroot', 34, 2.18, 74.12)\n",
      "('21-12-2021', 'East', 'Boston', 'Cookies', 'Chocolate Chip', 245, 1.87, 458.15)\n",
      "('24-12-2021', 'East', 'Boston', 'Crackers', 'Whole Wheat', 30, 3.49, 104.7)\n"
     ]
    }
   ],
   "source": [
    "#region= east\n",
    "mc.execute(\"select * from foodsales where region='east'\")\n",
    "for i in mc:\n",
    "    print(i)"
   ]
  },
  {
   "cell_type": "code",
   "execution_count": 45,
   "id": "fc490853",
   "metadata": {},
   "outputs": [
    {
     "name": "stdout",
     "output_type": "stream",
     "text": [
      "('Boston', 88)\n",
      "('Los Angeles', 55)\n",
      "('New York', 62)\n",
      "('San Diego', 39)\n"
     ]
    }
   ],
   "source": [
    "#citywise count\n",
    "mc.execute(\"select city,count(*) from foodsales group by city\")\n",
    "for r in mc:\n",
    "    print(r)"
   ]
  },
  {
   "cell_type": "code",
   "execution_count": 46,
   "id": "291d4d5c",
   "metadata": {},
   "outputs": [
    {
     "name": "stdout",
     "output_type": "stream",
     "text": [
      "('East', 'Boston', 'Crackers')\n",
      "('East', 'Boston', 'Crackers')\n",
      "('East', 'Boston', 'Cookies')\n",
      "('East', 'Boston', 'Cookies')\n",
      "('East', 'Boston', 'Snacks')\n",
      "('East', 'Boston', 'Cookies')\n",
      "('West', 'Los Angeles', 'Cookies')\n",
      "('West', 'Los Angeles', 'Bars')\n",
      "('East', 'New York', 'Bars')\n",
      "('East', 'Boston', 'Bars')\n",
      "('East', 'Boston', 'Cookies')\n",
      "('West', 'Los Angeles', 'Cookies')\n",
      "('East', 'New York', 'Cookies')\n",
      "('East', 'Boston', 'Bars')\n",
      "('West', 'Los Angeles', 'Bars')\n",
      "('East', 'New York', 'Cookies')\n",
      "('East', 'New York', 'Cookies')\n",
      "('East', 'New York', 'Bars')\n",
      "('West', 'San Diego', 'Cookies')\n",
      "('East', 'Boston', 'Cookies')\n",
      "('West', 'San Diego', 'Cookies')\n",
      "('East', 'New York', 'Cookies')\n",
      "('West', 'Los Angeles', 'Cookies')\n",
      "('West', 'Los Angeles', 'Cookies')\n",
      "('East', 'New York', 'Cookies')\n",
      "('West', 'San Diego', 'Bars')\n",
      "('East', 'Boston', 'Cookies')\n",
      "('East', 'Boston', 'Cookies')\n",
      "('East', 'Boston', 'Cookies')\n",
      "('East', 'Boston', 'Cookies')\n",
      "('West', 'Los Angeles', 'Cookies')\n",
      "('East', 'New York', 'Cookies')\n",
      "('East', 'Boston', 'Cookies')\n",
      "('West', 'Los Angeles', 'Bars')\n",
      "('East', 'New York', 'Cookies')\n",
      "('East', 'Boston', 'Cookies')\n",
      "('East', 'Boston', 'Cookies')\n",
      "('West', 'Los Angeles', 'Cookies')\n",
      "('East', 'Boston', 'Cookies')\n"
     ]
    }
   ],
   "source": [
    "mc.execute(\"select region,city,category from foodsales where totalprice>200\")\n",
    "for i in mc:\n",
    "    print(i)"
   ]
  },
  {
   "cell_type": "code",
   "execution_count": 49,
   "id": "18a37976",
   "metadata": {},
   "outputs": [
    {
     "name": "stdout",
     "output_type": "stream",
     "text": [
      "(2.200819672131146,)\n"
     ]
    }
   ],
   "source": [
    "#average price of product\n",
    "mc.execute(\"select avg(unitprice) from foodsales\")\n",
    "for i in mc:\n",
    "    print(i)"
   ]
  },
  {
   "cell_type": "code",
   "execution_count": 54,
   "id": "7045f180",
   "metadata": {},
   "outputs": [
    {
     "name": "stdout",
     "output_type": "stream",
     "text": [
      "('Crackers',)\n"
     ]
    }
   ],
   "source": [
    "mc.execute(\"select category from foodsales where ï»¿OrderDate='04-01-2020'\")\n",
    "for i in mc:\n",
    "           print(i)"
   ]
  },
  {
   "cell_type": "code",
   "execution_count": null,
   "id": "434dcf9f",
   "metadata": {},
   "outputs": [],
   "source": []
  }
 ],
 "metadata": {
  "kernelspec": {
   "display_name": "Python 3",
   "language": "python",
   "name": "python3"
  },
  "language_info": {
   "codemirror_mode": {
    "name": "ipython",
    "version": 3
   },
   "file_extension": ".py",
   "mimetype": "text/x-python",
   "name": "python",
   "nbconvert_exporter": "python",
   "pygments_lexer": "ipython3",
   "version": "3.8.8"
  }
 },
 "nbformat": 4,
 "nbformat_minor": 5
}
